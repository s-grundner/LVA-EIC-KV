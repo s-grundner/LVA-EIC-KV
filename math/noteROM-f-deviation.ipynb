{
 "cells": [
  {
   "cell_type": "markdown",
   "id": "097e4dc3",
   "metadata": {},
   "source": [
    "# Note ROM Frequency deviations\n",
    "\n",
    "To efficiantly calculate the note frequencies, a ROM is used to store the half counterperiods of a single octave. This notebook shows which frequencies are best to be stored in the ROM to minimize the frequency deviation and space requirements across the full MIDI note range (21-127)."
   ]
  },
  {
   "cell_type": "markdown",
   "id": "9c50ff39",
   "metadata": {},
   "source": [
    "## Choosing the Clock Frequency\n",
    "\n",
    "Two modules heavily depend on the clock frequency timing:\n",
    "\n",
    "- `rx` Uart Reciever: the standart midi baud rate of 31.25kBd must be achievable reliably.\n",
    "- `note2cnt` Note to Counter Period Converter: the clock frequency determines the maximum achievable frequency resolution.\n",
    "\n",
    "The oscillator uses a counter to generate the output frequency. The Lowest Frequency requires the highest counter period. To find a compromise between frequency accuracy (higher clock frequency, therefor larger counter registers) and space efficiency, the frequency must be chosen, such that the highest counter period fits into a $2^n$ bit register.\n",
    "\n",
    "To further save space, only half the counterperiod has to be stored in ROM, as the oscillator toggles the output pin every half period (output wave has 50% duty cycle). Therefor, the frequnecy can be doubled further without sacrificing register size.\n",
    "\n",
    "The optimal clock frequency can be calculated as follows:\n",
    "\n",
    "$$\n",
    "f_{\\mathrm{clk}} = 2\\cdot f_{\\mathrm{osc, min}} \\cdot 2^{BW} = f_{\\mathrm{osc, min}} \\cdot 2^{BW+1}\n",
    "$$\n",
    "\n",
    "For \n",
    "\n",
    "- $BW = 16$ and\n",
    "- $f_{\\mathrm{osc, min}} = 27.5\\,\\mathrm{Hz}$ (lowest midi note frequency),\n",
    "- the formula yields $f_{\\mathrm{clk}} = 3604480\\,\\mathrm{Hz}$. \n",
    "\n",
    "To prevend counter overflows, the clock frequency is chosen slightly lower to $f_{\\mathrm{clk}} = 3500000\\,\\mathrm{Hz}$. The lowest note is then represented by $64814.(81481)$. The trucation error is very small, with:\n",
    "\n",
    "$$\n",
    "f_{\\mathrm{osc, min, actual}} = \\frac{f_{\\mathrm{clk}}}{2 \\cdot 64814} \\approx 27.000339\\,\\mathrm{Hz} \\implies \\Delta f \\approx -3.39\\cdot 10^{-4}\\,\\mathrm{Hz}\n",
    "$$"
   ]
  },
  {
   "cell_type": "code",
   "execution_count": 15,
   "id": "153ff3d7",
   "metadata": {},
   "outputs": [],
   "source": [
    "f_clk_hz = 3500000\n",
    "f_clk_half_hz = f_clk_hz / 2\n",
    "cnt_bw = 16"
   ]
  },
  {
   "cell_type": "markdown",
   "id": "0c96590f",
   "metadata": {},
   "source": [
    "The [Piano Key Frequencies](https://en.wikipedia.org/wiki/Piano_key_frequencies) over the MIDI-Note range are calculated as follows: "
   ]
  },
  {
   "cell_type": "code",
   "execution_count": 16,
   "id": "24e80887",
   "metadata": {},
   "outputs": [],
   "source": [
    "midi_note_max = 128\n",
    "midi_note_min = 21\n",
    "midi_note_a4 = 69\n",
    "keys_per_octave = 12\n",
    "f_a4_hz = 440\n",
    "\n",
    "full_frequency_range = [f_a4_hz * (2 ** ((n - midi_note_a4) / keys_per_octave)) for n in range(midi_note_min, midi_note_max+1)]\n",
    "\n",
    "n_octaves = int((midi_note_max - midi_note_min + 1) // keys_per_octave + 1)"
   ]
  },
  {
   "cell_type": "code",
   "execution_count": 17,
   "id": "aca22a92",
   "metadata": {},
   "outputs": [],
   "source": [
    "def get_octave_freqs(index):\n",
    "\treturn full_frequency_range[index * 12 : (index + 1) * keys_per_octave]\n",
    "\n",
    "def octave_to_cnts(octave_freqs):\n",
    "\treturn [int(f_clk_half_hz // f) for f in octave_freqs]"
   ]
  },
  {
   "cell_type": "markdown",
   "id": "780fa2d2",
   "metadata": {},
   "source": [
    "## Choosing which Octaves to store\n",
    "\n",
    "To get the other frequencies, the stored octaves are either divided or multiplied by two (left or right shift), depending on the octave. This leads to frequency deviations, as the counter periods are integer values and truncation errors occur.\n"
   ]
  },
  {
   "cell_type": "code",
   "execution_count": null,
   "id": "56ba924a",
   "metadata": {},
   "outputs": [],
   "source": [
    "import numpy as np\n",
    "\n",
    "def octave_diff(src_octave, dest_octave):\n",
    "\toctave_freqs = get_octave_freqs(src_octave)\n",
    "\toctave_cnts = octave_to_cnts(octave_freqs)\n",
    "\tshift_amount = abs(dest_octave - src_octave)\n",
    "\n",
    "\tif src_octave < dest_octave:\n",
    "\t\t# shifting up\n",
    "\t\tshifted_cnts = np.array(octave_cnts) >> shift_amount\n",
    "\telse:\n",
    "\t\t# shifting down\n",
    "\t\tshifted_cnts = np.array(octave_cnts) << shift_amount\n",
    "\n",
    "\tsynth_freqs = f_clk_hz / shifted_cnts / 2;\n",
    "\toctave_goal_freqs = np.array(get_octave_freqs(dest_octave))\n",
    "\tdeviation = synth_freqs - octave_goal_freqs\n",
    "\t\n",
    "\tprint(f\"Octave shift from {src_octave} to {dest_octave}:\")\n",
    "\tprint(\"| MIDI | CNT | Goal Freq | Synth Freq | Deviation |\")\n",
    "\tfor i in range(keys_per_octave):\n",
    "\t\tprint(f\"| {i + dest_octave * keys_per_octave + midi_note_min} | {shifted_cnts[i]} | {octave_goal_freqs[i]:4.4f} | {synth_freqs[i]:4.4f} | {deviation[i]:2.4f} |\")\n",
    "\n",
    "\trom_sizes = np.ceil(np.log2(shifted_cnts))\n",
    "\tmax_rom_size = int(np.max(rom_sizes))\n",
    "\tentries_with_max_size = np.sum(rom_sizes == max_rom_size)\n",
    "\tstorage_efficiency = (entries_with_max_size / keys_per_octave) * 100\n",
    "\t\n",
    "\tprint(\"\\nROM Size if these counter values were stored:\")\n",
    "\tprint(f\"ROM size needed: {max_rom_size} bits\")\n",
    "\tprint(f\"{entries_with_max_size} Entries require this size\")\n",
    "\tprint(f\"{storage_efficiency}% Storage efficiency\")"
   ]
  },
  {
   "cell_type": "markdown",
   "id": "4880ea09",
   "metadata": {},
   "source": [
    "The higher the octave, the lower the cost of ROM storage due to smaller counter periods. However low counter periods have a larger error which accumulates when shifting to lower octaves.\n",
    "\n",
    "The Base error can be calculated by comparing the same octaves. Then an octave with an acceptable error can be chosen to be stored in ROM."
   ]
  },
  {
   "cell_type": "code",
   "execution_count": 19,
   "id": "65c4864a",
   "metadata": {},
   "outputs": [
    {
     "name": "stdout",
     "output_type": "stream",
     "text": [
      "Octave shift from 8 to 4:\n",
      "| MIDI | CNT | Goal Freq | Synth Freq | Deviation |\n",
      "| 69 | 3968 | 440.0000 | 441.0282 | 1.0282 |\n",
      "| 70 | 3744 | 466.1638 | 467.4145 | 1.2508 |\n",
      "| 71 | 3536 | 493.8833 | 494.9095 | 1.0262 |\n",
      "| 72 | 3344 | 523.2511 | 523.3254 | 0.0742 |\n",
      "| 73 | 3152 | 554.3653 | 555.2030 | 0.8378 |\n",
      "| 74 | 2976 | 587.3295 | 588.0376 | 0.7081 |\n",
      "| 75 | 2800 | 622.2540 | 625.0000 | 2.7460 |\n",
      "| 76 | 2640 | 659.2551 | 662.8788 | 3.6237 |\n",
      "| 77 | 2496 | 698.4565 | 701.1218 | 2.6653 |\n",
      "| 78 | 2352 | 739.9888 | 744.0476 | 4.0588 |\n",
      "| 79 | 2224 | 783.9909 | 786.8705 | 2.8796 |\n",
      "| 80 | 2096 | 830.6094 | 834.9237 | 4.3143 |\n",
      "\n",
      "ROM Size if these counter values were stored:\n",
      "ROM size needed: 12 bits\n",
      "12 Entries require this size\n",
      "100.0% Storage efficiency\n"
     ]
    }
   ],
   "source": [
    "octave_diff(8, 4)"
   ]
  },
  {
   "cell_type": "markdown",
   "id": "745d14c7",
   "metadata": {},
   "source": [
    "### Testing if the Frequnency Offset is acceptable\n",
    "\n",
    "The Offset is determied by ear. A Synthesizer (frequency Generator) is used to generate the calculated expected output frequency. This test showed that all errors are acceptable. As the larger errors only occur at higher frquencies, the ear is less sensitive to these deviations. The error from octave 8 is the largest and starts to become audible, with the benefit of requireing only 8 bit storage per note.\n",
    "\n",
    "### ROM Size and Storage Efficiency\n",
    "\n",
    "With a maximum counter value close to a power of two, the ROM efficiency can be maximized, as each octave is a factor of two apart."
   ]
  },
  {
   "cell_type": "code",
   "execution_count": 20,
   "id": "752840c2",
   "metadata": {},
   "outputs": [
    {
     "name": "stdout",
     "output_type": "stream",
     "text": [
      "noteRom[0] = 248;\n",
      "noteRom[1] = 234;\n",
      "noteRom[2] = 221;\n",
      "noteRom[3] = 209;\n",
      "noteRom[4] = 197;\n",
      "noteRom[5] = 186;\n",
      "noteRom[6] = 175;\n",
      "noteRom[7] = 165;\n",
      "noteRom[8] = 156;\n",
      "noteRom[9] = 147;\n",
      "noteRom[10] = 139;\n",
      "noteRom[11] = 131;\n"
     ]
    }
   ],
   "source": [
    "middle_octave_cnts = octave_to_cnts(get_octave_freqs(8))\n",
    "for i in range(keys_per_octave):\n",
    "\tprint(f\"noteRom[{i}] = {middle_octave_cnts[i]};\")"
   ]
  }
 ],
 "metadata": {
  "kernelspec": {
   "display_name": ".venv",
   "language": "python",
   "name": "python3"
  },
  "language_info": {
   "codemirror_mode": {
    "name": "ipython",
    "version": 3
   },
   "file_extension": ".py",
   "mimetype": "text/x-python",
   "name": "python",
   "nbconvert_exporter": "python",
   "pygments_lexer": "ipython3",
   "version": "3.12.10"
  }
 },
 "nbformat": 4,
 "nbformat_minor": 5
}
