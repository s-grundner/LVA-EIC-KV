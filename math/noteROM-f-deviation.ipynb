{
 "cells": [
  {
   "cell_type": "markdown",
   "id": "097e4dc3",
   "metadata": {},
   "source": [
    "# Note ROM Frequency deviations\n",
    "\n",
    "To efficiantly calculate the note frequencies, a ROM is used to store the half counterperiods of a single octave. This notebook shows which frequencies are best to be stored in the ROM to minimize the frequency deviation across the full MIDI note range (21-127)."
   ]
  },
  {
   "cell_type": "markdown",
   "id": "9c50ff39",
   "metadata": {},
   "source": [
    "## Choosing the Clock Frequency\n",
    "\n",
    "Two modules heavily depend on the clock frequency timing:\n",
    "\n",
    "- `rx` Uart Reciever: the standart midi baud rate of 31.25kBd must be achievable reliably.\n",
    "- `note2cnt` Note to Counter Period Converter: the clock frequency determines the maximum achievable frequency resolution.\n",
    "\n",
    "The oscillator uses a counter to generate the output frequency. The Lowest Frequency requires the highest counter period. To find a compromise between frequency accuracy (higher clock frequency, therefor larger counter registers) and space efficiency, the frequency must be chosen, such that the highest counter period fits into a $2^n$ bit register.\n",
    "\n",
    "To further save space, only half the counterperiod has to be stored in ROM, as the oscillator toggles the output pin every half period (output wave has 50% duty cycle). Therefor, the frequnecy can be doubled further without sacrificing register size.\n",
    "\n",
    "The optimal clock frequency can be calculated as follows:\n",
    "\n",
    "$$\n",
    "f_{\\mathrm{clk}} = 2\\cdot f_{\\mathrm{osc, min}} \\cdot 2^{BW} = f_{\\mathrm{osc, min}} \\cdot 2^{BW+1}\n",
    "$$\n",
    "\n",
    "For \n",
    "\n",
    "- $BW = 16$ and\n",
    "- $f_{\\mathrm{osc, min}} = 27.5\\,\\mathrm{Hz}$ (lowest midi note frequency),\n",
    "- the formula yields $f_{\\mathrm{clk}} = 3604480\\,\\mathrm{Hz}$. \n",
    "\n",
    "To prevend counter overflows, the clock frequency is chosen slightly lower to $f_{\\mathrm{clk}} = 3500000\\,\\mathrm{Hz}$. The lowest note is then represented by $64814.(81481)$. The trucation error is very small, with:\n",
    "\n",
    "$$\n",
    "f_{\\mathrm{osc, min, actual}} = \\frac{f_{\\mathrm{clk}}}{2 \\cdot 64814} \\approx 27.000339\\,\\mathrm{Hz} \\implies \\Delta f \\approx -3.39\\cdot 10^{-4}\\,\\mathrm{Hz}\n",
    "$$"
   ]
  },
  {
   "cell_type": "code",
   "execution_count": 88,
   "id": "153ff3d7",
   "metadata": {},
   "outputs": [],
   "source": [
    "f_clk_hz = 3500000 # <- Optimal to achive close to 16 bit counter for 20Hz minimum frequency\n",
    "f_clk_half_hz = f_clk_hz / 2\n",
    "cnt_bw = 16"
   ]
  },
  {
   "cell_type": "markdown",
   "id": "0c96590f",
   "metadata": {},
   "source": [
    "The [Piano Key Frequencies](https://en.wikipedia.org/wiki/Piano_key_frequencies) over the MIDI-Note range are calculated as follows: "
   ]
  },
  {
   "cell_type": "code",
   "execution_count": 229,
   "id": "24e80887",
   "metadata": {},
   "outputs": [],
   "source": [
    "midi_note_max = 128\n",
    "midi_note_min = 21\n",
    "midi_note_a4 = 69\n",
    "keys_per_octave = 12\n",
    "f_a4_hz = 440\n",
    "\n",
    "full_frequency_range = [f_a4_hz * (2 ** ((n - midi_note_a4) / keys_per_octave)) for n in range(midi_note_min, midi_note_max+1)]\n",
    "\n",
    "n_octaves = int((midi_note_max - midi_note_min + 1) // keys_per_octave + 1)"
   ]
  },
  {
   "cell_type": "code",
   "execution_count": 215,
   "id": "aca22a92",
   "metadata": {},
   "outputs": [],
   "source": [
    "def get_octave_freqs(index):\n",
    "\treturn full_frequency_range[index * 12 : (index + 1) * keys_per_octave]\n",
    "\n",
    "def octave_to_cnts(octave_freqs):\n",
    "\treturn [int(f_clk_half_hz // f) for f in octave_freqs]"
   ]
  },
  {
   "cell_type": "markdown",
   "id": "780fa2d2",
   "metadata": {},
   "source": [
    "## Choosing which Octaves to store\n",
    "\n",
    "To get the other frequencies, the stored octaves are either divided or multiplied by two (left or right shift), depending on the octave. This leads to frequency deviations, as the counter periods are integer values and truncation errors occur.\n"
   ]
  },
  {
   "cell_type": "code",
   "execution_count": 216,
   "id": "56ba924a",
   "metadata": {},
   "outputs": [],
   "source": [
    "import numpy as np\n",
    "\n",
    "def octave_diff(src_octave, dest_octave):\n",
    "\toctave_freqs = get_octave_freqs(src_octave)\n",
    "\toctave_cnts = octave_to_cnts(octave_freqs)\n",
    "\tshift_amount = abs(dest_octave - src_octave)\n",
    "\n",
    "\tif src_octave < dest_octave:\n",
    "\t\t# shifting up\n",
    "\t\tshifted_cnts = np.array(octave_cnts) >> shift_amount\n",
    "\telse:\n",
    "\t\t# shifting down\n",
    "\t\tshifted_cnts = np.array(octave_cnts) << shift_amount\n",
    "\n",
    "\tsynth_freqs = f_clk_hz / shifted_cnts / 2;\n",
    "\toctave_goal_freqs = np.array(get_octave_freqs(dest_octave))\n",
    "\tdeviation = synth_freqs - octave_goal_freqs\n",
    "\t\n",
    "\tprint(f\"Octave shift from {src_octave} to {dest_octave}:\")\n",
    "\tprint(\"| MIDI | CNT | Goal Freq | Synth Freq | Deviation |\")\n",
    "\tfor i in range(keys_per_octave):\n",
    "\t\tprint(f\"| {i + dest_octave * 12 + midi_note_min} | {shifted_cnts[i]} | {octave_goal_freqs[i]:4.4f} | {synth_freqs[i]:4.4f} | {deviation[i]:2.4f} |\")\n",
    "\n",
    "\trom_sizes = np.ceil(np.log2(shifted_cnts))\n",
    "\tmax_rom_size = int(np.max(rom_sizes))\n",
    "\tentries_with_max_size = np.sum(rom_sizes == max_rom_size)\n",
    "\tstorage_efficiency = (entries_with_max_size / keys_per_octave) * 100\n",
    "\t\n",
    "\tprint(\"\\nROM Size if these counter values were stored:\")\n",
    "\tprint(f\"ROM size needed: {max_rom_size} bits\")\n",
    "\tprint(f\"{entries_with_max_size} Entries require this size\")\n",
    "\tprint(f\"{storage_efficiency}% Storage efficiency\")"
   ]
  },
  {
   "cell_type": "markdown",
   "id": "4880ea09",
   "metadata": {},
   "source": [
    "The higher the octave, the lower the cost of ROM storage due to smaller counter periods. However low counter periods have a larger error which accumulates when shifting to lower octaves.\n",
    "\n",
    "The Base error can be calculated by comparing the same octaves. Then an octave with an acceptable error can be chosen to be stored in ROM."
   ]
  },
  {
   "cell_type": "code",
   "execution_count": 231,
   "id": "65c4864a",
   "metadata": {},
   "outputs": [
    {
     "name": "stdout",
     "output_type": "stream",
     "text": [
      "Octave shift from 8 to 0:\n",
      "| MIDI | CNT | Goal Freq | Synth Freq | Deviation |\n",
      "| 21 | 63488 | 27.5000 | 27.5643 | 0.0643 |\n",
      "| 22 | 59904 | 29.1352 | 29.2134 | 0.0782 |\n",
      "| 23 | 56576 | 30.8677 | 30.9318 | 0.0641 |\n",
      "| 24 | 53504 | 32.7032 | 32.7078 | 0.0046 |\n",
      "| 25 | 50432 | 34.6478 | 34.7002 | 0.0524 |\n",
      "| 26 | 47616 | 36.7081 | 36.7524 | 0.0443 |\n",
      "| 27 | 44800 | 38.8909 | 39.0625 | 0.1716 |\n",
      "| 28 | 42240 | 41.2034 | 41.4299 | 0.2265 |\n",
      "| 29 | 39936 | 43.6535 | 43.8201 | 0.1666 |\n",
      "| 30 | 37632 | 46.2493 | 46.5030 | 0.2537 |\n",
      "| 31 | 35584 | 48.9994 | 49.1794 | 0.1800 |\n",
      "| 32 | 33536 | 51.9131 | 52.1827 | 0.2696 |\n",
      "\n",
      "ROM Size if these counter values were stored:\n",
      "ROM size needed: 16 bits\n",
      "12 Entries require this size\n",
      "100.0% Storage efficiency\n"
     ]
    }
   ],
   "source": [
    "octave_diff(8, 0)"
   ]
  },
  {
   "cell_type": "markdown",
   "id": "745d14c7",
   "metadata": {},
   "source": [
    "### Testing if the Frequnency Offset is acceptable\n",
    "\n",
    "The Offset is determied by ear. A Synthesizer (frequency Generator) is used to generate the calculated expected output frequency. This test showed that all errors are acceptable. As the larger errors only occur at higher frquencies, the ear is less sensitive to these deviations. The error from octave 8 is the largest and starts to become audible, with the benefit of requireing only 8 bit storage per note.\n",
    "\n",
    "### ROM Size and Storage Efficiency\n",
    "\n",
    "With a maximum counter value close to a power of two, the ROM efficiency can be maximized, as each octave is a factor of two apart."
   ]
  },
  {
   "cell_type": "code",
   "execution_count": 232,
   "id": "752840c2",
   "metadata": {},
   "outputs": [
    {
     "name": "stdout",
     "output_type": "stream",
     "text": [
      "noteRom[0] = 248;\n",
      "noteRom[1] = 234;\n",
      "noteRom[2] = 221;\n",
      "noteRom[3] = 209;\n",
      "noteRom[4] = 197;\n",
      "noteRom[5] = 186;\n",
      "noteRom[6] = 175;\n",
      "noteRom[7] = 165;\n",
      "noteRom[8] = 156;\n",
      "noteRom[9] = 147;\n",
      "noteRom[10] = 139;\n",
      "noteRom[11] = 131;\n"
     ]
    }
   ],
   "source": [
    "middle_octave_cnts = octave_to_cnts(get_octave_freqs(8))\n",
    "for i in range(keys_per_octave):\n",
    "\tprint(f\"noteRom[{i}] = {middle_octave_cnts[i]};\")"
   ]
  }
 ],
 "metadata": {
  "kernelspec": {
   "display_name": ".venv",
   "language": "python",
   "name": "python3"
  },
  "language_info": {
   "codemirror_mode": {
    "name": "ipython",
    "version": 3
   },
   "file_extension": ".py",
   "mimetype": "text/x-python",
   "name": "python",
   "nbconvert_exporter": "python",
   "pygments_lexer": "ipython3",
   "version": "3.12.10"
  }
 },
 "nbformat": 4,
 "nbformat_minor": 5
}
